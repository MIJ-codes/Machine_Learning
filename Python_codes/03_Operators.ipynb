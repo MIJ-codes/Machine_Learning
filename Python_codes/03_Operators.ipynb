{
 "cells": [
  {
   "cell_type": "markdown",
   "metadata": {},
   "source": [
    "Arithmatic operators in python"
   ]
  },
  {
   "cell_type": "code",
   "execution_count": 123,
   "metadata": {},
   "outputs": [
    {
     "name": "stdout",
     "output_type": "stream",
     "text": [
      "Sum:  8\n"
     ]
    }
   ],
   "source": [
    "#simple addition\n",
    "a = 5\n",
    "b = 3\n",
    "sum_result = a + b\n",
    "print (\"Sum: \", sum_result)"
   ]
  },
  {
   "cell_type": "code",
   "execution_count": 1,
   "metadata": {},
   "outputs": [
    {
     "name": "stdout",
     "output_type": "stream",
     "text": [
      "String addition:  HelloWorld\n"
     ]
    }
   ],
   "source": [
    "#Sting addition: Two strings can be added together\n",
    "s1 = \"Hello\"\n",
    "s2 = \"World\"\n",
    "string_addtion = s1 + s2\n",
    "print (\"String addition: \", string_addtion)"
   ]
  },
  {
   "cell_type": "code",
   "execution_count": 124,
   "metadata": {},
   "outputs": [
    {
     "name": "stdout",
     "output_type": "stream",
     "text": [
      "Difference:  2\n"
     ]
    }
   ],
   "source": [
    "#simple subtraction\n",
    "diff_result = a - b\n",
    "print (\"Difference: \", diff_result)"
   ]
  },
  {
   "cell_type": "code",
   "execution_count": 125,
   "metadata": {},
   "outputs": [
    {
     "name": "stdout",
     "output_type": "stream",
     "text": [
      "Multiplication:  15\n"
     ]
    }
   ],
   "source": [
    "#simple multiplication\n",
    "mul_result = a * b\n",
    "print (\"Multiplication: \", mul_result)"
   ]
  },
  {
   "cell_type": "code",
   "execution_count": 126,
   "metadata": {},
   "outputs": [
    {
     "name": "stdout",
     "output_type": "stream",
     "text": [
      "Division:  1.6666666666666667\n"
     ]
    }
   ],
   "source": [
    "#simple division\n",
    "div_result = a / b\n",
    "print (\"Division: \", div_result)"
   ]
  },
  {
   "cell_type": "code",
   "execution_count": 127,
   "metadata": {},
   "outputs": [
    {
     "name": "stdout",
     "output_type": "stream",
     "text": [
      "Floor division:  1\n"
     ]
    }
   ],
   "source": [
    "#Floor Division (//): Divides 1st numbeer by 2nd number and returns only integer part(ignores the remainder or decimal part).\n",
    "floor_div_result = a // b\n",
    "print (\"Floor division: \", floor_div_result)"
   ]
  },
  {
   "cell_type": "code",
   "execution_count": 128,
   "metadata": {},
   "outputs": [
    {
     "name": "stdout",
     "output_type": "stream",
     "text": [
      "Modulus:  2\n"
     ]
    }
   ],
   "source": [
    "#Modulus\n",
    "mod_result = a % b\n",
    "print (\"Modulus: \", mod_result)"
   ]
  },
  {
   "cell_type": "code",
   "execution_count": 129,
   "metadata": {},
   "outputs": [
    {
     "name": "stdout",
     "output_type": "stream",
     "text": [
      "Exponentiation:  125\n"
     ]
    }
   ],
   "source": [
    "#Exponentiation (**): Raises the first number to the power of the second.\n",
    "exp_result = a ** b\n",
    "print (\"Exponentiation: \", exp_result)"
   ]
  },
  {
   "cell_type": "markdown",
   "metadata": {},
   "source": [
    "Comparison operators in python"
   ]
  },
  {
   "cell_type": "code",
   "execution_count": 130,
   "metadata": {},
   "outputs": [
    {
     "name": "stdout",
     "output_type": "stream",
     "text": [
      "Equal:  False\n"
     ]
    }
   ],
   "source": [
    "#If one is equal to another comparison\n",
    "equal_result = a == b\n",
    "print (\"Equal: \", equal_result)"
   ]
  },
  {
   "cell_type": "code",
   "execution_count": 131,
   "metadata": {},
   "outputs": [
    {
     "name": "stdout",
     "output_type": "stream",
     "text": [
      "Not equal:  True\n"
     ]
    }
   ],
   "source": [
    "#If one is not equal to another comparison\n",
    "not_equal_result = a != b\n",
    "print (\"Not equal: \" , not_equal_result)"
   ]
  },
  {
   "cell_type": "code",
   "execution_count": 132,
   "metadata": {},
   "outputs": [
    {
     "name": "stdout",
     "output_type": "stream",
     "text": [
      "Greater:  True\n"
     ]
    }
   ],
   "source": [
    "#If one is greater than other comparison\n",
    "greater_result = a > b\n",
    "print (\"Greater: \", greater_result)"
   ]
  },
  {
   "cell_type": "code",
   "execution_count": 133,
   "metadata": {},
   "outputs": [
    {
     "name": "stdout",
     "output_type": "stream",
     "text": [
      "Less:  False\n"
     ]
    }
   ],
   "source": [
    "#If one is less than other comparison\n",
    "less_result = a < b\n",
    "print (\"Less: \", less_result)"
   ]
  },
  {
   "cell_type": "code",
   "execution_count": 134,
   "metadata": {},
   "outputs": [
    {
     "name": "stdout",
     "output_type": "stream",
     "text": [
      "Greater than or equal:  True\n"
     ]
    }
   ],
   "source": [
    "#If one is greater than or equal to other comparison\n",
    "great_equal_result = a >= b\n",
    "print (\"Greater than or equal: \" , great_equal_result)"
   ]
  },
  {
   "cell_type": "code",
   "execution_count": 135,
   "metadata": {},
   "outputs": [
    {
     "name": "stdout",
     "output_type": "stream",
     "text": [
      "Less than or equal:  False\n"
     ]
    }
   ],
   "source": [
    "#If one is less or equal to other comparison\n",
    "less_equal_result = a <= b\n",
    "print (\"Less than or equal: \" , less_equal_result)"
   ]
  },
  {
   "cell_type": "markdown",
   "metadata": {},
   "source": [
    "Logical operators in python"
   ]
  },
  {
   "cell_type": "code",
   "execution_count": 136,
   "metadata": {},
   "outputs": [
    {
     "name": "stdout",
     "output_type": "stream",
     "text": [
      "AND:  True\n"
     ]
    }
   ],
   "source": [
    "#AND operator\n",
    "and_result = (a > 3) and (b < 20)\n",
    "print (\"AND: \" , and_result)"
   ]
  },
  {
   "cell_type": "code",
   "execution_count": 137,
   "metadata": {},
   "outputs": [
    {
     "name": "stdout",
     "output_type": "stream",
     "text": [
      "OR:  True\n"
     ]
    }
   ],
   "source": [
    "#OR operator\n",
    "or_results = (a != 4) or (b == 3)\n",
    "print (\"OR: \" , or_results)"
   ]
  },
  {
   "cell_type": "code",
   "execution_count": 138,
   "metadata": {},
   "outputs": [
    {
     "name": "stdout",
     "output_type": "stream",
     "text": [
      "NOT:  True\n"
     ]
    }
   ],
   "source": [
    "#NOT (not) operator: Reverses the result, returns True if the condition is False.\n",
    "not_result = not (a == b)\n",
    "print (\"NOT: \" , not_result)"
   ]
  },
  {
   "cell_type": "markdown",
   "metadata": {},
   "source": [
    "Assignment operators"
   ]
  },
  {
   "cell_type": "code",
   "execution_count": 139,
   "metadata": {},
   "outputs": [
    {
     "name": "stdout",
     "output_type": "stream",
     "text": [
      "X variable was assigned:  5\n"
     ]
    }
   ],
   "source": [
    "#Basic assignment (=)\n",
    "x = 5\n",
    "print (\"X variable was assigned: \", x)"
   ]
  },
  {
   "cell_type": "code",
   "execution_count": 140,
   "metadata": {},
   "outputs": [
    {
     "name": "stdout",
     "output_type": "stream",
     "text": [
      "X variable was assigned:  8\n"
     ]
    }
   ],
   "source": [
    "#Add and assign (+=)\n",
    "x = 5\n",
    "x += 3  # Same as x = x + 3\n",
    "print (\"X variable was assigned: \", x)  # Output: 8"
   ]
  },
  {
   "cell_type": "code",
   "execution_count": 141,
   "metadata": {},
   "outputs": [
    {
     "name": "stdout",
     "output_type": "stream",
     "text": [
      "X variable was assigned:  3\n"
     ]
    }
   ],
   "source": [
    "#Subtract and assign (-=)\n",
    "x = 5\n",
    "x -= 2  # Same as x = x - 2\n",
    "print (\"X variable was assigned: \", x)  # Output: 3"
   ]
  },
  {
   "cell_type": "code",
   "execution_count": 142,
   "metadata": {},
   "outputs": [
    {
     "name": "stdout",
     "output_type": "stream",
     "text": [
      "X variable was assigned:  20\n"
     ]
    }
   ],
   "source": [
    "#Multiply and assign (*=)\n",
    "x = 10\n",
    "x *= 2  # Same as x = x * 2\n",
    "print (\"X variable was assigned: \", x)  # Output: 20"
   ]
  },
  {
   "cell_type": "code",
   "execution_count": 143,
   "metadata": {},
   "outputs": [
    {
     "name": "stdout",
     "output_type": "stream",
     "text": [
      "X variable was assigned:  5.0\n"
     ]
    }
   ],
   "source": [
    "#Divide and assign (/=)\n",
    "x = 10\n",
    "x /= 2  # Same as x = x / 2\n",
    "print (\"X variable was assigned: \", x)  # Output: 10"
   ]
  },
  {
   "cell_type": "markdown",
   "metadata": {},
   "source": [
    "Membership and identity operator"
   ]
  },
  {
   "cell_type": "code",
   "execution_count": null,
   "metadata": {},
   "outputs": [
    {
     "name": "stdout",
     "output_type": "stream",
     "text": [
      "Membership result:  True\n"
     ]
    }
   ],
   "source": [
    "#Membership (in): Checks if a value exists in a sequence (like a list, tuple, or string).\n",
    "fruits = [\"Banana\", \"Apple\", \"Orange\", \"Mango\"]\n",
    "membership_result = \"Banana\" in fruits # in the operator that finds if the given string is in the list or not\n",
    "print (\"Membership result: \", membership_result)"
   ]
  },
  {
   "cell_type": "code",
   "execution_count": 146,
   "metadata": {},
   "outputs": [
    {
     "name": "stdout",
     "output_type": "stream",
     "text": [
      "Identity result:  True\n"
     ]
    }
   ],
   "source": [
    "#Identity (is): Checks if two variables point to the same object in memory.\n",
    "fruits = [\"apple\", \"banana\"]\n",
    "y = fruits\n",
    "result = fruits is y\n",
    "print(\"Identity result: \", result)  # Output: True"
   ]
  },
  {
   "cell_type": "markdown",
   "metadata": {},
   "source": [
    "Exercise: Find the area of a rectangle"
   ]
  },
  {
   "cell_type": "code",
   "execution_count": 148,
   "metadata": {},
   "outputs": [
    {
     "name": "stdout",
     "output_type": "stream",
     "text": [
      "The area of the rectangle is  50 square units\n"
     ]
    }
   ],
   "source": [
    "length = 5\n",
    "width = 10\n",
    "area = length * width\n",
    "print (\"The area of the rectangle is \", area , \"square units\")"
   ]
  }
 ],
 "metadata": {
  "kernelspec": {
   "display_name": "myml",
   "language": "python",
   "name": "python3"
  },
  "language_info": {
   "codemirror_mode": {
    "name": "ipython",
    "version": 3
   },
   "file_extension": ".py",
   "mimetype": "text/x-python",
   "name": "python",
   "nbconvert_exporter": "python",
   "pygments_lexer": "ipython3",
   "version": "3.13.2"
  }
 },
 "nbformat": 4,
 "nbformat_minor": 2
}
