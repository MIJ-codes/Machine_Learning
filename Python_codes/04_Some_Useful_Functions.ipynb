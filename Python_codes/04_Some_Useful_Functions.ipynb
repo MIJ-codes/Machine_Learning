{
 "cells": [
  {
   "cell_type": "code",
   "execution_count": 1,
   "id": "ad11b032",
   "metadata": {},
   "outputs": [
    {
     "data": {
      "text/plain": [
       "5"
      ]
     },
     "execution_count": 1,
     "metadata": {},
     "output_type": "execute_result"
    }
   ],
   "source": [
    "#\"round()\" functions rounds the input value to a specified number of places or to the nearest integer\n",
    "round(4.6)"
   ]
  },
  {
   "cell_type": "code",
   "execution_count": 2,
   "id": "9dcd133d",
   "metadata": {},
   "outputs": [
    {
     "data": {
      "text/plain": [
       "4"
      ]
     },
     "execution_count": 2,
     "metadata": {},
     "output_type": "execute_result"
    }
   ],
   "source": [
    "round(4.3)"
   ]
  },
  {
   "cell_type": "code",
   "execution_count": 3,
   "id": "3c6820c1",
   "metadata": {},
   "outputs": [
    {
     "data": {
      "text/plain": [
       "4.558"
      ]
     },
     "execution_count": 3,
     "metadata": {},
     "output_type": "execute_result"
    }
   ],
   "source": [
    "#The function \"round(value, decimal_point)\" this means go up to the given decimal point and then round.\n",
    "round(4.55842, 3)"
   ]
  },
  {
   "cell_type": "code",
   "execution_count": 4,
   "id": "2937db54",
   "metadata": {},
   "outputs": [
    {
     "data": {
      "text/plain": [
       "(5, 2)"
      ]
     },
     "execution_count": 4,
     "metadata": {},
     "output_type": "execute_result"
    }
   ],
   "source": [
    "#\"divmod(dividend, divisor)\" output the quotient and the remainder in a tuple. The output is division result and remainder this is called tuple.\n",
    "divmod(27, 5)"
   ]
  },
  {
   "cell_type": "code",
   "execution_count": 9,
   "id": "7fad96db",
   "metadata": {},
   "outputs": [
    {
     "name": "stdout",
     "output_type": "stream",
     "text": [
      "<class 'tuple'>\n",
      "(3, 7)\n"
     ]
    }
   ],
   "source": [
    "g = divmod(34, 9)\n",
    "print(type(g))\n",
    "print(g)"
   ]
  },
  {
   "cell_type": "markdown",
   "id": "35e074f4",
   "metadata": {},
   "source": [
    "The tuple is like an array so it has indexing. The index of the first element is 0 and then 1, 2, 3, ... "
   ]
  },
  {
   "cell_type": "code",
   "execution_count": 6,
   "id": "f3446bd1",
   "metadata": {},
   "outputs": [
    {
     "data": {
      "text/plain": [
       "3"
      ]
     },
     "execution_count": 6,
     "metadata": {},
     "output_type": "execute_result"
    }
   ],
   "source": [
    "#The tuple is like an array so it has indexing. The index of the first element is 0 and then 1, 2, 3, ... \n",
    "g[0]"
   ]
  },
  {
   "cell_type": "code",
   "execution_count": 7,
   "id": "18571da9",
   "metadata": {},
   "outputs": [
    {
     "data": {
      "text/plain": [
       "7"
      ]
     },
     "execution_count": 7,
     "metadata": {},
     "output_type": "execute_result"
    }
   ],
   "source": [
    "g[1]"
   ]
  },
  {
   "cell_type": "code",
   "execution_count": 10,
   "id": "94f8993f",
   "metadata": {},
   "outputs": [
    {
     "data": {
      "text/plain": [
       "True"
      ]
     },
     "execution_count": 10,
     "metadata": {},
     "output_type": "execute_result"
    }
   ],
   "source": [
    "#\"isinstance()\" returns True,  if the first argument is an instance of that class. Multiple classes can also be checked at once.\n",
    "isinstance(3, int)"
   ]
  },
  {
   "cell_type": "code",
   "execution_count": null,
   "id": "75fd2276",
   "metadata": {},
   "outputs": [
    {
     "data": {
      "text/plain": [
       "True"
      ]
     },
     "execution_count": 41,
     "metadata": {},
     "output_type": "execute_result"
    }
   ],
   "source": [
    "isinstance(3.4, (float, int))"
   ]
  },
  {
   "cell_type": "code",
   "execution_count": null,
   "id": "bbce18e0",
   "metadata": {},
   "outputs": [
    {
     "data": {
      "text/plain": [
       "False"
      ]
     },
     "execution_count": 42,
     "metadata": {},
     "output_type": "execute_result"
    }
   ],
   "source": [
    "isinstance(2 + 3j, (int, float, str))"
   ]
  },
  {
   "cell_type": "code",
   "execution_count": null,
   "id": "0617fc4f",
   "metadata": {},
   "outputs": [
    {
     "data": {
      "text/plain": [
       "True"
      ]
     },
     "execution_count": 43,
     "metadata": {},
     "output_type": "execute_result"
    }
   ],
   "source": [
    "isinstance(2 + 3j, (int, float, str, complex))"
   ]
  },
  {
   "cell_type": "code",
   "execution_count": null,
   "id": "289cd950",
   "metadata": {},
   "outputs": [
    {
     "data": {
      "text/plain": [
       "16"
      ]
     },
     "execution_count": 44,
     "metadata": {},
     "output_type": "execute_result"
    }
   ],
   "source": [
    "#pow(x, y, z) x raise to the power y and remainder by z. means (x^y % z)\n",
    "pow(2, 4)"
   ]
  },
  {
   "cell_type": "code",
   "execution_count": null,
   "id": "980c6975",
   "metadata": {},
   "outputs": [
    {
     "data": {
      "text/plain": [
       "16"
      ]
     },
     "execution_count": 45,
     "metadata": {},
     "output_type": "execute_result"
    }
   ],
   "source": [
    "2 ** 4"
   ]
  },
  {
   "cell_type": "code",
   "execution_count": null,
   "id": "131e2a6e",
   "metadata": {},
   "outputs": [
    {
     "data": {
      "text/plain": [
       "2"
      ]
     },
     "execution_count": 46,
     "metadata": {},
     "output_type": "execute_result"
    }
   ],
   "source": [
    "pow(2, 4, 7)"
   ]
  },
  {
   "cell_type": "code",
   "execution_count": 11,
   "id": "f257dfe1",
   "metadata": {},
   "outputs": [
    {
     "name": "stdout",
     "output_type": "stream",
     "text": [
      "\u001b[31mSignature:\u001b[39m pow(base, exp, mod=\u001b[38;5;28;01mNone\u001b[39;00m)\n",
      "\u001b[31mDocstring:\u001b[39m\n",
      "Equivalent to base**exp with 2 arguments or base**exp % mod with 3 arguments\n",
      "\n",
      "Some types, such as ints, are able to use a more efficient algorithm when\n",
      "invoked using the three argument form.\n",
      "\u001b[31mType:\u001b[39m      builtin_function_or_method"
     ]
    }
   ],
   "source": [
    "#If you know a function but don't know how to use it then the syntax is \"function name?\" this will give the documentation on how to use the functions\n",
    "pow?"
   ]
  },
  {
   "cell_type": "code",
   "execution_count": 12,
   "id": "1f03f877",
   "metadata": {},
   "outputs": [
    {
     "name": "stdout",
     "output_type": "stream",
     "text": [
      "Help on built-in function pow in module builtins:\n",
      "\n",
      "pow(base, exp, mod=None)\n",
      "    Equivalent to base**exp with 2 arguments or base**exp % mod with 3 arguments\n",
      "\n",
      "    Some types, such as ints, are able to use a more efficient algorithm when\n",
      "    invoked using the three argument form.\n",
      "\n"
     ]
    }
   ],
   "source": [
    "#There is another function for this which is called \"help(function_name)\"\n",
    "help(pow)"
   ]
  }
 ],
 "metadata": {
  "kernelspec": {
   "display_name": "myml",
   "language": "python",
   "name": "python3"
  },
  "language_info": {
   "codemirror_mode": {
    "name": "ipython",
    "version": 3
   },
   "file_extension": ".py",
   "mimetype": "text/x-python",
   "name": "python",
   "nbconvert_exporter": "python",
   "pygments_lexer": "ipython3",
   "version": "3.13.2"
  }
 },
 "nbformat": 4,
 "nbformat_minor": 5
}
