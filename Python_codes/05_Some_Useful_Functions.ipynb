{
 "cells": [
  {
   "cell_type": "markdown",
   "id": "3173e86a",
   "metadata": {},
   "source": [
    "\"round()\" functions rounds the input value to a specified number of places or to the nearest integer"
   ]
  },
  {
   "cell_type": "code",
   "execution_count": 31,
   "id": "ad11b032",
   "metadata": {},
   "outputs": [
    {
     "data": {
      "text/plain": [
       "5"
      ]
     },
     "execution_count": 31,
     "metadata": {},
     "output_type": "execute_result"
    }
   ],
   "source": [
    "round(4.6)"
   ]
  },
  {
   "cell_type": "code",
   "execution_count": 32,
   "id": "9dcd133d",
   "metadata": {},
   "outputs": [
    {
     "data": {
      "text/plain": [
       "4"
      ]
     },
     "execution_count": 32,
     "metadata": {},
     "output_type": "execute_result"
    }
   ],
   "source": [
    "round(4.3)"
   ]
  },
  {
   "cell_type": "markdown",
   "id": "0a4d6823",
   "metadata": {},
   "source": [
    "The function \"round(value, decimal_point)\" this means go up to the given decimal point and then round."
   ]
  },
  {
   "cell_type": "code",
   "execution_count": 33,
   "id": "3c6820c1",
   "metadata": {},
   "outputs": [
    {
     "data": {
      "text/plain": [
       "4.558"
      ]
     },
     "execution_count": 33,
     "metadata": {},
     "output_type": "execute_result"
    }
   ],
   "source": [
    "round(4.55842, 3)"
   ]
  },
  {
   "cell_type": "markdown",
   "id": "1f5ece48",
   "metadata": {},
   "source": [
    "\"divmod(dividend, divisor)\" output the quotient and the remainder in a tuple. The output is division result and remainder this is called tuple."
   ]
  },
  {
   "cell_type": "code",
   "execution_count": 34,
   "id": "2937db54",
   "metadata": {},
   "outputs": [
    {
     "data": {
      "text/plain": [
       "(5, 2)"
      ]
     },
     "execution_count": 34,
     "metadata": {},
     "output_type": "execute_result"
    }
   ],
   "source": [
    "divmod(27, 5)"
   ]
  },
  {
   "cell_type": "code",
   "execution_count": 35,
   "id": "7fad96db",
   "metadata": {},
   "outputs": [],
   "source": [
    "g = divmod(34, 9)"
   ]
  },
  {
   "cell_type": "code",
   "execution_count": 36,
   "id": "e1da4c55",
   "metadata": {},
   "outputs": [
    {
     "data": {
      "text/plain": [
       "tuple"
      ]
     },
     "execution_count": 36,
     "metadata": {},
     "output_type": "execute_result"
    }
   ],
   "source": [
    "type(g)"
   ]
  },
  {
   "cell_type": "code",
   "execution_count": 37,
   "id": "63f16124",
   "metadata": {},
   "outputs": [
    {
     "name": "stdout",
     "output_type": "stream",
     "text": [
      "(3, 7)\n"
     ]
    }
   ],
   "source": [
    "print(g)"
   ]
  },
  {
   "cell_type": "markdown",
   "id": "35e074f4",
   "metadata": {},
   "source": [
    "The tuple is like an array so it has indexing. The index of the first element is 0 and then 1, 2, 3, ... "
   ]
  },
  {
   "cell_type": "code",
   "execution_count": 38,
   "id": "f3446bd1",
   "metadata": {},
   "outputs": [
    {
     "data": {
      "text/plain": [
       "3"
      ]
     },
     "execution_count": 38,
     "metadata": {},
     "output_type": "execute_result"
    }
   ],
   "source": [
    "g[0]"
   ]
  },
  {
   "cell_type": "code",
   "execution_count": 39,
   "id": "18571da9",
   "metadata": {},
   "outputs": [
    {
     "data": {
      "text/plain": [
       "7"
      ]
     },
     "execution_count": 39,
     "metadata": {},
     "output_type": "execute_result"
    }
   ],
   "source": [
    "g[1]"
   ]
  },
  {
   "cell_type": "markdown",
   "id": "7cc877da",
   "metadata": {},
   "source": [
    "\"isinstance()\" returns True,  if the first argument is an instance of that class. Multiple classes can also be checked at once."
   ]
  },
  {
   "cell_type": "code",
   "execution_count": 40,
   "id": "94f8993f",
   "metadata": {},
   "outputs": [
    {
     "data": {
      "text/plain": [
       "True"
      ]
     },
     "execution_count": 40,
     "metadata": {},
     "output_type": "execute_result"
    }
   ],
   "source": [
    "isinstance(3, int)"
   ]
  },
  {
   "cell_type": "code",
   "execution_count": 41,
   "id": "75fd2276",
   "metadata": {},
   "outputs": [
    {
     "data": {
      "text/plain": [
       "True"
      ]
     },
     "execution_count": 41,
     "metadata": {},
     "output_type": "execute_result"
    }
   ],
   "source": [
    "isinstance(3.4, (float, int))"
   ]
  },
  {
   "cell_type": "code",
   "execution_count": 42,
   "id": "bbce18e0",
   "metadata": {},
   "outputs": [
    {
     "data": {
      "text/plain": [
       "False"
      ]
     },
     "execution_count": 42,
     "metadata": {},
     "output_type": "execute_result"
    }
   ],
   "source": [
    "isinstance(2 + 3j, (int, float, str))"
   ]
  },
  {
   "cell_type": "code",
   "execution_count": 43,
   "id": "0617fc4f",
   "metadata": {},
   "outputs": [
    {
     "data": {
      "text/plain": [
       "True"
      ]
     },
     "execution_count": 43,
     "metadata": {},
     "output_type": "execute_result"
    }
   ],
   "source": [
    "isinstance(2 + 3j, (int, float, str, complex))"
   ]
  },
  {
   "cell_type": "markdown",
   "id": "8c64a654",
   "metadata": {},
   "source": [
    "pow(x, y, z) x raise to the power y and remainder by z. means (x^y % z)"
   ]
  },
  {
   "cell_type": "code",
   "execution_count": 44,
   "id": "289cd950",
   "metadata": {},
   "outputs": [
    {
     "data": {
      "text/plain": [
       "16"
      ]
     },
     "execution_count": 44,
     "metadata": {},
     "output_type": "execute_result"
    }
   ],
   "source": [
    "pow(2, 4)"
   ]
  },
  {
   "cell_type": "code",
   "execution_count": 45,
   "id": "980c6975",
   "metadata": {},
   "outputs": [
    {
     "data": {
      "text/plain": [
       "16"
      ]
     },
     "execution_count": 45,
     "metadata": {},
     "output_type": "execute_result"
    }
   ],
   "source": [
    "2 ** 4"
   ]
  },
  {
   "cell_type": "code",
   "execution_count": 46,
   "id": "131e2a6e",
   "metadata": {},
   "outputs": [
    {
     "data": {
      "text/plain": [
       "2"
      ]
     },
     "execution_count": 46,
     "metadata": {},
     "output_type": "execute_result"
    }
   ],
   "source": [
    "pow(2, 4, 7)"
   ]
  }
 ],
 "metadata": {
  "kernelspec": {
   "display_name": "myml",
   "language": "python",
   "name": "python3"
  },
  "language_info": {
   "codemirror_mode": {
    "name": "ipython",
    "version": 3
   },
   "file_extension": ".py",
   "mimetype": "text/x-python",
   "name": "python",
   "nbconvert_exporter": "python",
   "pygments_lexer": "ipython3",
   "version": "3.13.2"
  }
 },
 "nbformat": 4,
 "nbformat_minor": 5
}
