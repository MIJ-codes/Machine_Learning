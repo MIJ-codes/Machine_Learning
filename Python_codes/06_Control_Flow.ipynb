{
 "cells": [
  {
   "cell_type": "markdown",
   "metadata": {},
   "source": [
    "If statment"
   ]
  },
  {
   "cell_type": "code",
   "execution_count": 36,
   "metadata": {},
   "outputs": [
    {
     "name": "stdout",
     "output_type": "stream",
     "text": [
      "x is greater than 5\n"
     ]
    }
   ],
   "source": [
    "x = 10\n",
    "if x > 5:\n",
    "    print(\"x is greater than 5\")"
   ]
  },
  {
   "cell_type": "markdown",
   "metadata": {},
   "source": [
    "If else statemnt"
   ]
  },
  {
   "cell_type": "code",
   "execution_count": 37,
   "metadata": {},
   "outputs": [
    {
     "name": "stdout",
     "output_type": "stream",
     "text": [
      "x is greater than 5\n"
     ]
    }
   ],
   "source": [
    "x = 10\n",
    "if x > 5:\n",
    "    print (\"x is greater than 5\")\n",
    "else:\n",
    "    print (\"x is less than 5\")"
   ]
  },
  {
   "cell_type": "code",
   "execution_count": 38,
   "metadata": {},
   "outputs": [
    {
     "name": "stdout",
     "output_type": "stream",
     "text": [
      "The first number is 56\n",
      "The second number is 78\n",
      "78 is greater than 56\n"
     ]
    }
   ],
   "source": [
    "a = int(input(\"Input the variable a:\"))\n",
    "print(\"The first number is\", a)\n",
    "b = int(input(\"Input the variable b:\"))\n",
    "print(\"The second number is\", b)\n",
    "\n",
    "if a > b:\n",
    "    print(a, \"is greater than\", b)\n",
    "else:\n",
    "    print(b, \"is greater than\", a)"
   ]
  },
  {
   "cell_type": "markdown",
   "metadata": {},
   "source": [
    "If elif else statement"
   ]
  },
  {
   "cell_type": "code",
   "execution_count": 39,
   "metadata": {},
   "outputs": [
    {
     "name": "stdout",
     "output_type": "stream",
     "text": [
      "x is greater than 5\n"
     ]
    }
   ],
   "source": [
    "x = 10\n",
    "if x > 5:\n",
    "    print (\"x is greater than 5\")\n",
    "elif x == 10:\n",
    "    print (\"x is equal to 5\")\n",
    "else:\n",
    "    print (\"x is less than 5\")"
   ]
  },
  {
   "cell_type": "code",
   "execution_count": 40,
   "metadata": {},
   "outputs": [
    {
     "name": "stdout",
     "output_type": "stream",
     "text": [
      "The first number is 69\n",
      "The second number is 4\n",
      "69 is greater than 4\n",
      "I am inside the if condition\n",
      "I am outside the if-elif-else condition\n"
     ]
    }
   ],
   "source": [
    "#The scope of the if statement\n",
    "a = int(input(\"Input the variable a:\"))\n",
    "print(\"The first number is\", a)\n",
    "b = int(input(\"Input the variable b:\"))\n",
    "print(\"The second number is\", b)\n",
    "\n",
    "if a > b:\n",
    "    print(a, \"is greater than\", b)\n",
    "    print(\"I am inside the if condition\")\n",
    "\n",
    "elif a == b:\n",
    "    print(a, \"is equal to\", b)\n",
    "    print(\"I am inside the elif condition\")\n",
    "\n",
    "else:\n",
    "    print(b, \"is greater than\", a)\n",
    "    print(\"I am inside the else condition\")\n",
    "\n",
    "#So anything written inside the indentation is part of the if else statement.\n",
    "print(\"I am outside the if-elif-else condition\")"
   ]
  },
  {
   "cell_type": "code",
   "execution_count": 41,
   "metadata": {},
   "outputs": [
    {
     "name": "stdout",
     "output_type": "stream",
     "text": [
      "The number is 79\n",
      "A-\n"
     ]
    }
   ],
   "source": [
    "#Practice:\n",
    "a = int(input(\"Enter marks:\"))\n",
    "print(\"The number is\", a)\n",
    "\n",
    "if a >= 85:\n",
    "    print(\"A+\")\n",
    "elif (a < 85) and (a >= 80):\n",
    "    print(\"A\")\n",
    "elif (a < 80) and (a >= 75):\n",
    "    print(\"A-\")\n",
    "elif (a < 75) and (a >= 70):\n",
    "    print(\"B+\")\n",
    "else:\n",
    "    print(\"Below average\")"
   ]
  },
  {
   "cell_type": "markdown",
   "metadata": {},
   "source": [
    "Nested if"
   ]
  },
  {
   "cell_type": "code",
   "execution_count": 55,
   "metadata": {},
   "outputs": [
    {
     "name": "stdout",
     "output_type": "stream",
     "text": [
      "The number is 15\n",
      "Number is greater than 10\n",
      "Inside the first if condition\n",
      "Number is smaller than or equal to 20\n",
      "Inside the nested else condition\n",
      "Outside of all if else statements\n"
     ]
    }
   ],
   "source": [
    "a = int(input(\"Enter a number:\"))\n",
    "print(\"The number is\", a)\n",
    "\n",
    "if a > 10:\n",
    "    print(\"Number is greater than 10\")\n",
    "    print(\"Inside the first if condition\")\n",
    "    if a > 20:\n",
    "        print(\"Number is greater than 20\")\n",
    "        print(\"Inside the nested if condition\")\n",
    "    else:\n",
    "        print(\"Number is smaller than or equal to 20\")\n",
    "        print(\"Inside the nested else condition\")\n",
    "else:\n",
    "    print(\"Number is smaller than or equal to 10\")\n",
    "    print(\"Inside the first else condition\")\n",
    "\n",
    "print(\"Outside of all if else statements\")"
   ]
  },
  {
   "cell_type": "markdown",
   "metadata": {},
   "source": [
    "For loop"
   ]
  },
  {
   "cell_type": "code",
   "execution_count": 43,
   "metadata": {},
   "outputs": [
    {
     "name": "stdout",
     "output_type": "stream",
     "text": [
      "apple\n",
      "orange\n",
      "banana\n",
      "orange\n"
     ]
    }
   ],
   "source": [
    "fruits = [\"apple\", \"orange\", \"banana\"]\n",
    "for fruit in fruits:\n",
    "    print (fruit)\n",
    "#List is like an array an the also have indexing.\n",
    "print(fruits[1])"
   ]
  },
  {
   "cell_type": "markdown",
   "metadata": {},
   "source": [
    "Loop control statements"
   ]
  },
  {
   "cell_type": "code",
   "execution_count": 44,
   "metadata": {},
   "outputs": [
    {
     "name": "stdout",
     "output_type": "stream",
     "text": [
      "0\n",
      "1\n",
      "2\n",
      "3\n",
      "4\n"
     ]
    }
   ],
   "source": [
    "#break: Exits the loop when a specific condition is met.\n",
    "for i in range (0, 10):\n",
    "    if i == 5:\n",
    "        break\n",
    "    print (i)"
   ]
  },
  {
   "cell_type": "code",
   "execution_count": 45,
   "metadata": {},
   "outputs": [
    {
     "name": "stdout",
     "output_type": "stream",
     "text": [
      "1\n",
      "3\n",
      "5\n",
      "7\n",
      "9\n"
     ]
    }
   ],
   "source": [
    "#continue: Skips the rest of the loop body and goes to the next iteration.\n",
    "for i in range (10):\n",
    "    if i % 2 == 0:\n",
    "        continue\n",
    "    print (i)"
   ]
  },
  {
   "cell_type": "code",
   "execution_count": 46,
   "metadata": {},
   "outputs": [
    {
     "name": "stdout",
     "output_type": "stream",
     "text": [
      "0\n",
      "1\n",
      "2\n",
      "3\n",
      "4\n",
      "6\n",
      "7\n",
      "8\n",
      "9\n"
     ]
    }
   ],
   "source": [
    "#Pass: A placeholder that does nothing; used when a statement is syntactically required but no action is needed.\n",
    "for i in range (10):\n",
    "    if i == 5:\n",
    "        pass\n",
    "    else:\n",
    "        print (i)"
   ]
  },
  {
   "cell_type": "markdown",
   "metadata": {},
   "source": [
    "List and for loop"
   ]
  },
  {
   "cell_type": "code",
   "execution_count": 47,
   "metadata": {},
   "outputs": [
    {
     "name": "stdout",
     "output_type": "stream",
     "text": [
      "1\n",
      "2\n",
      "3\n",
      "4\n",
      "5\n",
      "Got out of the first loop\n",
      "1\n",
      "2\n",
      "3\n",
      "4\n",
      "5\n",
      "66\n"
     ]
    }
   ],
   "source": [
    "List = [1, 2, 3, 4, 5]\n",
    "for i in List:\n",
    "    print(i)\n",
    "\n",
    "print(\"Got out of the first loop\")\n",
    "\n",
    "#List_name.append(value) is used to add a material to the list\n",
    "List.append(66)\n",
    "\n",
    "for i in List:\n",
    "    print(i)"
   ]
  },
  {
   "cell_type": "markdown",
   "metadata": {},
   "source": [
    "range () generates a range of integers "
   ]
  },
  {
   "cell_type": "code",
   "execution_count": 48,
   "metadata": {},
   "outputs": [
    {
     "name": "stdout",
     "output_type": "stream",
     "text": [
      "0\n",
      "1\n",
      "2\n",
      "3\n",
      "4\n",
      "5\n",
      "6\n",
      "7\n",
      "8\n",
      "9\n"
     ]
    }
   ],
   "source": [
    "for i in range (0, 10):\n",
    "    print (i)\n"
   ]
  },
  {
   "cell_type": "code",
   "execution_count": 49,
   "metadata": {},
   "outputs": [
    {
     "name": "stdout",
     "output_type": "stream",
     "text": [
      "0\n",
      "10\n",
      "20\n",
      "30\n",
      "40\n"
     ]
    }
   ],
   "source": [
    "#Syntax for the range is \"range(starting_number, ending_number, difference_between_two_numbers)\"\n",
    "for i in range(0,50,10):\n",
    "    print(i)"
   ]
  },
  {
   "cell_type": "code",
   "execution_count": 50,
   "metadata": {},
   "outputs": [
    {
     "name": "stdout",
     "output_type": "stream",
     "text": [
      "0\n",
      "1\n",
      "2\n",
      "3\n",
      "4\n",
      "5\n",
      "6\n",
      "7\n",
      "8\n",
      "9\n",
      "[0, 1, 4, 9, 16, 25, 36, 49, 64, 81]\n"
     ]
    }
   ],
   "source": [
    "#Practice:\n",
    "L = []\n",
    "for i in range(10):\n",
    "    print(i)\n",
    "    L.append(i ** 2)\n",
    "print(L)"
   ]
  },
  {
   "cell_type": "markdown",
   "metadata": {},
   "source": [
    "Set and for loop"
   ]
  },
  {
   "cell_type": "code",
   "execution_count": null,
   "metadata": {},
   "outputs": [
    {
     "name": "stdout",
     "output_type": "stream",
     "text": [
      "A 10\n",
      "B -19\n",
      "C abc\n"
     ]
    }
   ],
   "source": [
    "#Set can be written as \"Set_name = {\"key_name\":key_value, \"key_name\":key_value, \"key_name\":\"key_value\"}\"\n",
    "D = {\"A\":10, \"B\":-19, \"C\":\"abc\"}\n",
    "for x in D:\n",
    "    print(x, D[x]) #Print the key and the value of the key"
   ]
  },
  {
   "cell_type": "code",
   "execution_count": 51,
   "metadata": {},
   "outputs": [
    {
     "name": "stdout",
     "output_type": "stream",
     "text": [
      "apple\n",
      "4.9\n",
      "cherry\n",
      "Loop completes its iterations\n"
     ]
    }
   ],
   "source": [
    "#Else in for loops\n",
    "s = {\"apple\", 4.9, \"cherry\"}\n",
    "for x in s:\n",
    "    print(x)\n",
    "\n",
    "#This else portion will be executed only if the loop has completed its all iterations. If there are any breaks then this portion will not run\n",
    "else:\n",
    "    print(\"Loop completes its iterations\")"
   ]
  },
  {
   "cell_type": "code",
   "execution_count": null,
   "metadata": {},
   "outputs": [
    {
     "name": "stdout",
     "output_type": "stream",
     "text": [
      "apple\n",
      "4.9\n"
     ]
    }
   ],
   "source": [
    "#Else in for loops\n",
    "s = {\"apple\", 4.9, \"cherry\"} #This a set this will be further explained in future\n",
    "i = 1\n",
    "\n",
    "for x in s:\n",
    "\n",
    "    print(x)\n",
    "\n",
    "    i += 1\n",
    "\n",
    "    if i == 3:\n",
    "        break\n",
    "    else:\n",
    "        pass\n",
    "\n",
    "else:\n",
    "    print(\"Loop completes its iterations\")"
   ]
  },
  {
   "cell_type": "markdown",
   "metadata": {},
   "source": [
    "While loop"
   ]
  },
  {
   "cell_type": "code",
   "execution_count": 53,
   "metadata": {},
   "outputs": [
    {
     "name": "stdout",
     "output_type": "stream",
     "text": [
      "0\n",
      "1\n",
      "2\n",
      "3\n",
      "4\n",
      "5\n",
      "6\n",
      "7\n",
      "8\n",
      "9\n"
     ]
    }
   ],
   "source": [
    "count = 0\n",
    "while count < 10:\n",
    "    print (count)\n",
    "    count += 1"
   ]
  },
  {
   "cell_type": "code",
   "execution_count": 54,
   "metadata": {},
   "outputs": [
    {
     "name": "stdout",
     "output_type": "stream",
     "text": [
      "The max iteration number given is 6\n",
      "1\n",
      "This is iteration number: 1\n",
      "4\n",
      "This is iteration number: 2\n",
      "9\n",
      "This is iteration number: 3\n",
      "16\n",
      "This is iteration number: 4\n",
      "25\n",
      "This is iteration number: 5\n",
      "Loop completed got out of loop.\n"
     ]
    }
   ],
   "source": [
    "#Practice:\n",
    "n = int(input(\"The number of max iterations =\"))\n",
    "print(\"The max iteration number given is\", n)\n",
    "i = 1\n",
    "\n",
    "while i < n:\n",
    "    print(i**2)\n",
    "    print(\"This is iteration number:\", i)\n",
    "    i += 1\n",
    "\n",
    "print(\"Loop completed got out of loop.\")"
   ]
  }
 ],
 "metadata": {
  "kernelspec": {
   "display_name": "myml",
   "language": "python",
   "name": "python3"
  },
  "language_info": {
   "codemirror_mode": {
    "name": "ipython",
    "version": 3
   },
   "file_extension": ".py",
   "mimetype": "text/x-python",
   "name": "python",
   "nbconvert_exporter": "python",
   "pygments_lexer": "ipython3",
   "version": "3.13.2"
  }
 },
 "nbformat": 4,
 "nbformat_minor": 2
}
