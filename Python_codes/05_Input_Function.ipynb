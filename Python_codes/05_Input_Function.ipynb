{
 "cells": [
  {
   "cell_type": "code",
   "execution_count": 8,
   "id": "d79940a5",
   "metadata": {},
   "outputs": [
    {
     "name": "stdout",
     "output_type": "stream",
     "text": [
      "The input was 56\n",
      "The type is <class 'str'>\n"
     ]
    }
   ],
   "source": [
    "#whatever input is taken by the input function is considered to be a string.\n",
    "x = input(\"Enter a number\")\n",
    "print(\"The input was\",x)\n",
    "print(\"The type is\",type(x))"
   ]
  },
  {
   "cell_type": "code",
   "execution_count": 9,
   "id": "51bcdea6",
   "metadata": {},
   "outputs": [
    {
     "name": "stdout",
     "output_type": "stream",
     "text": [
      "The input is 56\n",
      "The type of the input is <class 'int'>\n"
     ]
    }
   ],
   "source": [
    "#To convert them we use the convert functions\n",
    "x = int(x)\n",
    "print(\"The input is\", x)\n",
    "print(\"The type of the input is\", type(x))"
   ]
  },
  {
   "cell_type": "code",
   "execution_count": 12,
   "id": "51065c0a",
   "metadata": {},
   "outputs": [
    {
     "name": "stdout",
     "output_type": "stream",
     "text": [
      "The number is 89.46\n",
      "The type of the number is <class 'float'>\n"
     ]
    }
   ],
   "source": [
    "#Both functons can be combined\n",
    "a = float(input(\"Enter any real number:\"))\n",
    "print(\"The number is\", a)\n",
    "print(\"The type of the number is\", type(a))"
   ]
  }
 ],
 "metadata": {
  "kernelspec": {
   "display_name": "myml",
   "language": "python",
   "name": "python3"
  },
  "language_info": {
   "codemirror_mode": {
    "name": "ipython",
    "version": 3
   },
   "file_extension": ".py",
   "mimetype": "text/x-python",
   "name": "python",
   "nbconvert_exporter": "python",
   "pygments_lexer": "ipython3",
   "version": "3.13.2"
  }
 },
 "nbformat": 4,
 "nbformat_minor": 5
}
