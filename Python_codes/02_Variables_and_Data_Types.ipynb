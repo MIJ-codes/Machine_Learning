{
 "cells": [
  {
   "cell_type": "markdown",
   "metadata": {},
   "source": [
    "Data types"
   ]
  },
  {
   "cell_type": "code",
   "execution_count": 13,
   "metadata": {},
   "outputs": [
    {
     "name": "stdout",
     "output_type": "stream",
     "text": [
      "Integer:  5\n",
      "<class 'int'>\n"
     ]
    }
   ],
   "source": [
    "#integer data type\n",
    "a = 5\n",
    "print (\"Integer: \", a)\n",
    "print (type (a)) #this will print the type of the data"
   ]
  },
  {
   "cell_type": "code",
   "execution_count": 14,
   "metadata": {},
   "outputs": [
    {
     "name": "stdout",
     "output_type": "stream",
     "text": [
      "Float:  10.5\n",
      "<class 'float'>\n"
     ]
    }
   ],
   "source": [
    "#float data type\n",
    "b = 10.5\n",
    "print (\"Float: \", b)\n",
    "print (type (b)) #this will print the type of the data"
   ]
  },
  {
   "cell_type": "code",
   "execution_count": 15,
   "metadata": {},
   "outputs": [
    {
     "name": "stdout",
     "output_type": "stream",
     "text": [
      "String:  Hello world\n",
      "<class 'str'>\n"
     ]
    }
   ],
   "source": [
    "#sting data type\n",
    "c = \"Hello world\"\n",
    "print (\"String: \", c)\n",
    "print (type (c)) #this will print the type of the data"
   ]
  },
  {
   "cell_type": "code",
   "execution_count": 16,
   "metadata": {},
   "outputs": [
    {
     "name": "stdout",
     "output_type": "stream",
     "text": [
      "Boolean:  False\n",
      "<class 'bool'>\n"
     ]
    }
   ],
   "source": [
    "#boolean data type\n",
    "d = False\n",
    "print (\"Boolean: \", d)\n",
    "print (type (d)) #this will print the type of the data"
   ]
  },
  {
   "cell_type": "code",
   "execution_count": 17,
   "metadata": {},
   "outputs": [
    {
     "name": "stdout",
     "output_type": "stream",
     "text": [
      "Variable     Type     Data/Info\n",
      "-------------------------------\n",
      "a            int      5\n",
      "age          int      23\n",
      "b            float    10.5\n",
      "c            str      Hello world\n",
      "d            bool     False\n",
      "is_student   bool     True\n",
      "name         str      Miad\n",
      "num          int      5\n",
      "num_float    float    5.0\n",
      "number       int      5\n",
      "number_str   str      5\n",
      "temp         float    37.8\n",
      "temp_int     int      37\n",
      "weight       float    84.5\n"
     ]
    }
   ],
   "source": [
    "#The function \"%whos\" shows the list of all variables in the memory of the pc.\n",
    "%whos"
   ]
  },
  {
   "cell_type": "markdown",
   "metadata": {},
   "source": [
    "Variables and assigning values to the variables"
   ]
  },
  {
   "cell_type": "code",
   "execution_count": 18,
   "metadata": {},
   "outputs": [
    {
     "name": "stdout",
     "output_type": "stream",
     "text": [
      "Name:  Miad \n",
      "Age:  23 \n",
      "Weight:  84.5 \n",
      "Is sudent?  True\n"
     ]
    }
   ],
   "source": [
    "name = \"Miad\"\n",
    "age = 23\n",
    "weight = 84.5\n",
    "is_student = True\n",
    "print (\"Name: \" , name , \"\\nAge: \" , age, \"\\nWeight: \" , weight, \"\\nIs sudent? \", is_student)"
   ]
  },
  {
   "cell_type": "markdown",
   "metadata": {},
   "source": [
    "Type conversion"
   ]
  },
  {
   "cell_type": "code",
   "execution_count": 19,
   "metadata": {},
   "outputs": [
    {
     "name": "stdout",
     "output_type": "stream",
     "text": [
      "5.0\n",
      "<class 'float'>\n"
     ]
    }
   ],
   "source": [
    "#int to float\n",
    "num = 5\n",
    "num_float = float (num)\n",
    "print (num_float)  # Output: 5.0\n",
    "print (type (num_float))  # Output: <class 'float'>"
   ]
  },
  {
   "cell_type": "code",
   "execution_count": 20,
   "metadata": {},
   "outputs": [
    {
     "name": "stdout",
     "output_type": "stream",
     "text": [
      "37\n",
      "<class 'int'>\n"
     ]
    }
   ],
   "source": [
    "#float to int\n",
    "temp = 37.8\n",
    "temp_int = int  (temp)\n",
    "print (temp_int) # Output: 37 the rest of the part ofter decimal got concatanated\n",
    "print (type (temp_int))# Output: <class 'int'>"
   ]
  },
  {
   "cell_type": "code",
   "execution_count": 21,
   "metadata": {},
   "outputs": [
    {
     "name": "stdout",
     "output_type": "stream",
     "text": [
      "5\n",
      "<class 'str'>\n"
     ]
    }
   ],
   "source": [
    "#int to string\n",
    "number = 5\n",
    "number_str = str (number)\n",
    "print (number_str) # Output: 5 but this is a string\n",
    "print (type (number_str)) # Ouput: <class 'int'>"
   ]
  },
  {
   "cell_type": "code",
   "execution_count": 22,
   "metadata": {},
   "outputs": [
    {
     "name": "stdout",
     "output_type": "stream",
     "text": [
      "5\n"
     ]
    },
    {
     "ename": "NameError",
     "evalue": "name 'var1' is not defined",
     "output_type": "error",
     "traceback": [
      "\u001b[31m---------------------------------------------------------------------------\u001b[39m",
      "\u001b[31mNameError\u001b[39m                                 Traceback (most recent call last)",
      "\u001b[36mCell\u001b[39m\u001b[36m \u001b[39m\u001b[32mIn[22]\u001b[39m\u001b[32m, line 6\u001b[39m\n\u001b[32m      4\u001b[39m \u001b[38;5;28mtype\u001b[39m(var1)\n\u001b[32m      5\u001b[39m \u001b[38;5;28;01mdel\u001b[39;00m var1\n\u001b[32m----> \u001b[39m\u001b[32m6\u001b[39m \u001b[38;5;28mprint\u001b[39m(\u001b[43mvar1\u001b[49m)\n\u001b[32m      7\u001b[39m \u001b[38;5;28mtype\u001b[39m(var1)\n\u001b[32m      8\u001b[39m \u001b[38;5;66;03m#From line 6 the variable doesn't exist so nothing to print or show type of that's why there will be an error\u001b[39;00m\n",
      "\u001b[31mNameError\u001b[39m: name 'var1' is not defined"
     ]
    }
   ],
   "source": [
    "#The operator \"del\" deletes a variable\n",
    "var1 = 5\n",
    "print(var1)\n",
    "type(var1)\n",
    "del var1\n",
    "print(var1)\n",
    "type(var1)\n",
    "#From line 6 the variable doesn't exist so nothing to print or show type of that's why there will be an error"
   ]
  }
 ],
 "metadata": {
  "kernelspec": {
   "display_name": "myml",
   "language": "python",
   "name": "python3"
  },
  "language_info": {
   "codemirror_mode": {
    "name": "ipython",
    "version": 3
   },
   "file_extension": ".py",
   "mimetype": "text/x-python",
   "name": "python",
   "nbconvert_exporter": "python",
   "pygments_lexer": "ipython3",
   "version": "3.13.2"
  }
 },
 "nbformat": 4,
 "nbformat_minor": 2
}
