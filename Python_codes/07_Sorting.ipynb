{
 "cells": [
  {
   "cell_type": "markdown",
   "id": "8f33d20e",
   "metadata": {},
   "source": [
    "Given a list of numbers i.e. [1, 2, 4, -5, 7, 9, 3, 2] make another list that contains all the items \n",
    "in sorted order from min to max. i.e. you result will be another list like [-5, 1, 2, 2, 3, 3, 7, 9]"
   ]
  },
  {
   "cell_type": "code",
   "execution_count": 15,
   "id": "efcb6ea8",
   "metadata": {},
   "outputs": [
    {
     "name": "stdout",
     "output_type": "stream",
     "text": [
      "The minimum value = -5\n"
     ]
    }
   ],
   "source": [
    "#Find the minimum value from the list\n",
    "L = [1, 2, 4, -5, 7, 9, 3, 2]\n",
    "minimum = L[0]\n",
    "for i in L:\n",
    "    if i < minimum:\n",
    "        minimum = i\n",
    "print(\"The minimum value =\", minimum)"
   ]
  },
  {
   "cell_type": "code",
   "execution_count": 16,
   "id": "0096ad63",
   "metadata": {},
   "outputs": [
    {
     "name": "stdout",
     "output_type": "stream",
     "text": [
      "The minimum value = 1 The position of the minimum value = 3\n"
     ]
    }
   ],
   "source": [
    "#Find the position of the minimum value from the list\n",
    "L = [1, 2, 4, -5, 7, 9, 3, 2]\n",
    "minimum = L[0]\n",
    "idx = 0\n",
    "counter = 0\n",
    "for i in L:\n",
    "    if i < minimum:\n",
    "        m = i\n",
    "        idx = counter\n",
    "    counter += 1\n",
    "print(\"The minimum value =\", minimum, \"The position of the minimum value =\", idx)"
   ]
  },
  {
   "cell_type": "code",
   "execution_count": 17,
   "id": "db9f0d57",
   "metadata": {},
   "outputs": [
    {
     "name": "stdout",
     "output_type": "stream",
     "text": [
      "The sorted list is  [-5, 1, 2, 2, 3, 4, 7, 9]\n"
     ]
    }
   ],
   "source": [
    "#Swapping for sorting\n",
    "L = [1, 2, 4, -5, 7, 9, 3, 2]\n",
    "for j in range(len(L)):\n",
    "    minimum = L[j]\n",
    "    idx = j\n",
    "    counter = j\n",
    "\n",
    "    for i in range(j, len(L)):\n",
    "        if L[i] < minimum:\n",
    "            minimum = L[i]\n",
    "            idx = counter\n",
    "        counter += 1\n",
    "\n",
    "    temp = L[j]\n",
    "    L[j] = minimum\n",
    "    L[idx] = temp\n",
    "\n",
    "print(\"The sorted list is \", L)"
   ]
  },
  {
   "cell_type": "code",
   "execution_count": 18,
   "id": "3bce1681",
   "metadata": {},
   "outputs": [
    {
     "name": "stdout",
     "output_type": "stream",
     "text": [
      "The sorted list using built-in function is  [-5, 1, 2, 2, 3, 4, 7, 9]\n"
     ]
    }
   ],
   "source": [
    "#There is built in function for the sorting\n",
    "sorted_L = sorted(L)\n",
    "print(\"The sorted list using built-in function is \", sorted_L)"
   ]
  }
 ],
 "metadata": {
  "kernelspec": {
   "display_name": "myml",
   "language": "python",
   "name": "python3"
  },
  "language_info": {
   "codemirror_mode": {
    "name": "ipython",
    "version": 3
   },
   "file_extension": ".py",
   "mimetype": "text/x-python",
   "name": "python",
   "nbconvert_exporter": "python",
   "pygments_lexer": "ipython3",
   "version": "3.13.2"
  }
 },
 "nbformat": 4,
 "nbformat_minor": 5
}
