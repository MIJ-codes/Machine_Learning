{
 "cells": [
  {
   "cell_type": "markdown",
   "id": "75112f27",
   "metadata": {},
   "source": [
    "This is Python tutorial."
   ]
  },
  {
   "cell_type": "markdown",
   "id": "fbd73330",
   "metadata": {},
   "source": [
    "This is our first program in Python. It just started here."
   ]
  },
  {
   "cell_type": "code",
   "execution_count": 2,
   "id": "00cc7452",
   "metadata": {},
   "outputs": [
    {
     "name": "stdout",
     "output_type": "stream",
     "text": [
      "Hello world\n"
     ]
    }
   ],
   "source": [
    "print(\"Hello world\")"
   ]
  },
  {
   "cell_type": "markdown",
   "id": "f8487b0c",
   "metadata": {},
   "source": [
    "$a = b + c$"
   ]
  }
 ],
 "metadata": {
  "kernelspec": {
   "display_name": "myml",
   "language": "python",
   "name": "python3"
  },
  "language_info": {
   "codemirror_mode": {
    "name": "ipython",
    "version": 3
   },
   "file_extension": ".py",
   "mimetype": "text/x-python",
   "name": "python",
   "nbconvert_exporter": "python",
   "pygments_lexer": "ipython3",
   "version": "3.13.2"
  }
 },
 "nbformat": 4,
 "nbformat_minor": 5
}
