{
 "cells": [
  {
   "cell_type": "code",
   "execution_count": 45,
   "id": "0143bbd6",
   "metadata": {},
   "outputs": [
    {
     "ename": "IndentationError",
     "evalue": "unexpected indent (2352599314.py, line 7)",
     "output_type": "error",
     "traceback": [
      "  \u001b[36mCell\u001b[39m\u001b[36m \u001b[39m\u001b[32mIn[45]\u001b[39m\u001b[32m, line 7\u001b[39m\n\u001b[31m    \u001b[39m\u001b[31m\"\"\"\u001b[39m\n    ^\n\u001b[31mIndentationError\u001b[39m\u001b[31m:\u001b[39m unexpected indent\n"
     ]
    }
   ],
   "source": [
    "\"\"\"\n",
    "The syntax to define a function is-\n",
    "\n",
    "    def function_name(parameters #optional):\n",
    "        \"\"\"\n",
    "            # some description about the function within three lines.\n",
    "        \"\"\"\n",
    "        Tasks of the function\n",
    "        return value  # optional\n",
    "\n",
    "The syntax to call a function is-\n",
    "\n",
    "    function_name(arguments #optional)\n",
    "\n",
    "\"\"\""
   ]
  },
  {
   "cell_type": "code",
   "execution_count": null,
   "id": "8de2d730",
   "metadata": {},
   "outputs": [],
   "source": [
    "#Defining the functions\n",
    "def printSuccess():\n",
    "    print(\"The function was executed successfully!\")\n",
    "    print(\"You can now proceed with the next steps.\")"
   ]
  },
  {
   "cell_type": "code",
   "execution_count": null,
   "id": "e186ebb1",
   "metadata": {},
   "outputs": [
    {
     "name": "stdout",
     "output_type": "stream",
     "text": [
      "The result of the addition is: 8\n",
      "The function was executed successfully!\n",
      "You can now proceed with the next steps.\n"
     ]
    }
   ],
   "source": [
    "#Calling the function\n",
    "a = 3 + 5\n",
    "print(\"The result of the addition is:\", a)\n",
    "printSuccess()"
   ]
  },
  {
   "cell_type": "code",
   "execution_count": null,
   "id": "e194d1b8",
   "metadata": {},
   "outputs": [],
   "source": [
    "#Document string\n",
    "def printAnotherSuccess():\n",
    "    \"\"\"\n",
    "    This portion of the code is calles doucument string and here some description of the function is provided.\n",
    "    Normall it is only three line long. Below are the exmples for this function.\n",
    "    This function prints a success message.\n",
    "    It can be used to indicate that a certain operation was completed successfully.\n",
    "    \"\"\"\n",
    "    print(\"Another function executed successfully!\")\n",
    "    print(\"This the end of calculation.\")\n",
    "    print(\"This is a demonstration of a function with a docstring.\")"
   ]
  },
  {
   "cell_type": "code",
   "execution_count": null,
   "id": "d149cf1d",
   "metadata": {},
   "outputs": [
    {
     "name": "stdout",
     "output_type": "stream",
     "text": [
      "The result of the multiplication is: 20\n",
      "Another function executed successfully!\n",
      "This the end of calculation.\n",
      "This is a demonstration of a function with a docstring.\n"
     ]
    }
   ],
   "source": [
    "#Calling the second function\n",
    "a = 10 * 2\n",
    "print(\"The result of the multiplication is:\", a)\n",
    "printAnotherSuccess()"
   ]
  },
  {
   "cell_type": "code",
   "execution_count": null,
   "id": "795840d3",
   "metadata": {},
   "outputs": [
    {
     "data": {
      "text/plain": [
       "'\\nThis portion of the code is calles doucument string and here some description of the function is provided.\\nNormall it is only three line long. Below are the exmples for this function.\\nThis function prints a success message.\\nIt can be used to indicate that a certain operation was completed successfully.\\n'"
      ]
     },
     "execution_count": 15,
     "metadata": {},
     "output_type": "execute_result"
    }
   ],
   "source": [
    "#To know what a function is doing\n",
    "printAnotherSuccess.__doc__\n",
    "#This will print the docstring of the function"
   ]
  },
  {
   "cell_type": "code",
   "execution_count": null,
   "id": "d01ae6f8",
   "metadata": {},
   "outputs": [
    {
     "name": "stdout",
     "output_type": "stream",
     "text": [
      "\u001b[31mSignature:\u001b[39m printAnotherSuccess()\n",
      "\u001b[31mDocstring:\u001b[39m\n",
      "This portion of the code is calles doucument string and here some description of the function is provided.\n",
      "Normall it is only three line long. Below are the exmples for this function.\n",
      "This function prints a success message.\n",
      "It can be used to indicate that a certain operation was completed successfully.\n",
      "\u001b[31mFile:\u001b[39m      c:\\users\\miadu\\appdata\\local\\temp\\ipykernel_19896\\463128897.py\n",
      "\u001b[31mType:\u001b[39m      function"
     ]
    }
   ],
   "source": [
    "#To know more about the function\n",
    "printAnotherSuccess?\n",
    "#This will print the docstring of the function along with other information like parameters, return values, etc."
   ]
  },
  {
   "cell_type": "code",
   "execution_count": null,
   "id": "e743a64a",
   "metadata": {},
   "outputs": [
    {
     "name": "stdout",
     "output_type": "stream",
     "text": [
      "\u001b[31mSignature:\u001b[39m len(obj, /)\n",
      "\u001b[31mDocstring:\u001b[39m Return the number of items in a container.\n",
      "\u001b[31mType:\u001b[39m      builtin_function_or_method"
     ]
    }
   ],
   "source": [
    "len?"
   ]
  },
  {
   "cell_type": "code",
   "execution_count": null,
   "id": "22af527b",
   "metadata": {},
   "outputs": [],
   "source": [
    "#Defining functions with arguments\n",
    "def greet(name):\n",
    "    \"\"\"\n",
    "    This function greets the person with the provided name.\n",
    "    It takes one argument, 'name', which is a string.\n",
    "    \"\"\"\n",
    "    if isinstance(name, str): #isinstance() is used to check if the variable is of a specific type.\n",
    "        print(f\"Hello, {name}! Welcome to the function demonstration.\")\n",
    "        \"\"\"\n",
    "            This another way of printing a string with a variable. \n",
    "            The syntax is print(f\"some string {variable_name} some string\") \n",
    "            This is equivalent to print(\"some string\", variable_name, \"some string\")\n",
    "        \"\"\"\n",
    "    else:\n",
    "        print(\"Please provide a valid name as a string.\")\n",
    "\n",
    "    print(\"The argument type is:\", type(name))"
   ]
  },
  {
   "cell_type": "code",
   "execution_count": null,
   "id": "c186c263",
   "metadata": {},
   "outputs": [
    {
     "name": "stdout",
     "output_type": "stream",
     "text": [
      "\u001b[31mSignature:\u001b[39m greet(name)\n",
      "\u001b[31mDocstring:\u001b[39m\n",
      "This function greets the person with the provided name.\n",
      "It takes one argument, 'name', which is a string.\n",
      "\u001b[31mFile:\u001b[39m      c:\\users\\miadu\\appdata\\local\\temp\\ipykernel_19896\\1597765228.py\n",
      "\u001b[31mType:\u001b[39m      function"
     ]
    }
   ],
   "source": [
    "greet?"
   ]
  },
  {
   "cell_type": "code",
   "execution_count": 46,
   "id": "a057769e",
   "metadata": {},
   "outputs": [
    {
     "name": "stdout",
     "output_type": "stream",
     "text": [
      "Hello, Miad! Welcome to the function demonstration.\n",
      "The argument type is: <class 'str'>\n",
      "-----------break------------\n",
      "Please provide a valid name as a string.\n",
      "The argument type is: <class 'int'>\n",
      "-----------break------------\n",
      "Hello, Alice! Welcome to the function demonstration.\n",
      "The argument type is: <class 'str'>\n",
      "-----------break------------\n"
     ]
    },
    {
     "ename": "TypeError",
     "evalue": "greet() missing 1 required positional argument: 'name'",
     "output_type": "error",
     "traceback": [
      "\u001b[31m---------------------------------------------------------------------------\u001b[39m",
      "\u001b[31mTypeError\u001b[39m                                 Traceback (most recent call last)",
      "\u001b[36mCell\u001b[39m\u001b[36m \u001b[39m\u001b[32mIn[46]\u001b[39m\u001b[32m, line 15\u001b[39m\n\u001b[32m     12\u001b[39m \u001b[38;5;28mprint\u001b[39m(\u001b[33m\"\u001b[39m\u001b[33m-----------break------------\u001b[39m\u001b[33m\"\u001b[39m)\n\u001b[32m     14\u001b[39m \u001b[38;5;66;03m#calling the function with no argument\u001b[39;00m\n\u001b[32m---> \u001b[39m\u001b[32m15\u001b[39m \u001b[43mgreet\u001b[49m\u001b[43m(\u001b[49m\u001b[43m)\u001b[49m  \u001b[38;5;66;03m# This will raise a TypeError since the function expects one argument\u001b[39;00m\n\u001b[32m     16\u001b[39m \u001b[38;5;28mprint\u001b[39m(\u001b[33m\"\u001b[39m\u001b[33m-----------break------------\u001b[39m\u001b[33m\"\u001b[39m)\n",
      "\u001b[31mTypeError\u001b[39m: greet() missing 1 required positional argument: 'name'"
     ]
    }
   ],
   "source": [
    "#calling the function with an argument\n",
    "greet(\"Miad\")\n",
    "print(\"-----------break------------\")\n",
    "\n",
    "#calling the function with an invalid argument\n",
    "greet(123)  # This will trigger the error message in the function\n",
    "print(\"-----------break------------\")\n",
    "\n",
    "#calling the function with variable\n",
    "name = \"Alice\"\n",
    "greet(name)  # This will greet Alice\n",
    "print(\"-----------break------------\")\n",
    "\n",
    "#calling the function with no argument\n",
    "greet()  # This will raise a TypeError since the function expects one argument\n",
    "print(\"-----------break------------\")"
   ]
  },
  {
   "cell_type": "code",
   "execution_count": null,
   "id": "6c12e999",
   "metadata": {},
   "outputs": [],
   "source": [
    "#Defining multiple arguments\n",
    "def add_numbers(num1, num2):\n",
    "    \"\"\"\n",
    "    This function adds two numbers together.\n",
    "    It takes two arguments, 'num1' and 'num2', which should be numeric types.\n",
    "    \"\"\"\n",
    "    if isinstance(num1, (int, float)) and isinstance(num2, (int, float)):\n",
    "        result = num1 + num2\n",
    "        print(f\"The sum of {num1} and {num2} is: {result}\")\n",
    "        return result\n",
    "    else:\n",
    "        print(\"Both arguments must be numbers (int or float).\")\n",
    "        return None"
   ]
  },
  {
   "cell_type": "code",
   "execution_count": null,
   "id": "5caf97db",
   "metadata": {},
   "outputs": [
    {
     "name": "stdout",
     "output_type": "stream",
     "text": [
      "\u001b[31mSignature:\u001b[39m add_numbers(num1, num2)\n",
      "\u001b[31mDocstring:\u001b[39m\n",
      "This function adds two numbers together.\n",
      "It takes two arguments, 'num1' and 'num2', which should be numeric types.\n",
      "\u001b[31mFile:\u001b[39m      c:\\users\\miadu\\appdata\\local\\temp\\ipykernel_19896\\2515193494.py\n",
      "\u001b[31mType:\u001b[39m      function"
     ]
    }
   ],
   "source": [
    "add_numbers?"
   ]
  },
  {
   "cell_type": "code",
   "execution_count": null,
   "id": "cf857bae",
   "metadata": {},
   "outputs": [
    {
     "name": "stdout",
     "output_type": "stream",
     "text": [
      "The sum of 5 and 10 is: 15\n",
      "-----------break------------\n",
      "Both arguments must be numbers (int or float).\n",
      "-----------break------------\n",
      "The sum of 15 and 25 is: 40\n",
      "-----------break------------\n"
     ]
    },
    {
     "ename": "TypeError",
     "evalue": "add_numbers() missing 1 required positional argument: 'num2'",
     "output_type": "error",
     "traceback": [
      "\u001b[31m---------------------------------------------------------------------------\u001b[39m",
      "\u001b[31mTypeError\u001b[39m                                 Traceback (most recent call last)",
      "\u001b[36mCell\u001b[39m\u001b[36m \u001b[39m\u001b[32mIn[44]\u001b[39m\u001b[32m, line 16\u001b[39m\n\u001b[32m     13\u001b[39m \u001b[38;5;28mprint\u001b[39m(\u001b[33m\"\u001b[39m\u001b[33m-----------break------------\u001b[39m\u001b[33m\"\u001b[39m)\n\u001b[32m     15\u001b[39m \u001b[38;5;66;03m#calling the function with less than required arguments\u001b[39;00m\n\u001b[32m---> \u001b[39m\u001b[32m16\u001b[39m result = \u001b[43madd_numbers\u001b[49m\u001b[43m(\u001b[49m\u001b[32;43m5\u001b[39;49m\u001b[43m)\u001b[49m  \u001b[38;5;66;03m# This will raise a TypeError since the function expects two arguments\u001b[39;00m\n\u001b[32m     17\u001b[39m \u001b[38;5;28mprint\u001b[39m(\u001b[33m\"\u001b[39m\u001b[33m-----------break------------\u001b[39m\u001b[33m\"\u001b[39m)\n\u001b[32m     19\u001b[39m \u001b[38;5;66;03m#calling the function with no arguments\u001b[39;00m\n",
      "\u001b[31mTypeError\u001b[39m: add_numbers() missing 1 required positional argument: 'num2'"
     ]
    }
   ],
   "source": [
    "#calling the function with multiple arguments\n",
    "result = add_numbers(5, 10)  # This will print the sum of 5 and 10\n",
    "print(\"-----------break------------\")\n",
    "\n",
    "#calling the function with invalid arguments\n",
    "result = add_numbers(5, \"10\")  # This will trigger the error message in the function\n",
    "print(\"-----------break------------\")\n",
    "\n",
    "#calling the function with variables\n",
    "num1 = 15\n",
    "num2 = 25\n",
    "result = add_numbers(num1, num2)  # This will print the sum of 15 and 25\n",
    "print(\"-----------break------------\")\n",
    "\n",
    "#calling the function with less than required arguments\n",
    "result = add_numbers(5)  # This will raise a TypeError since the function expects two arguments\n",
    "print(\"-----------break------------\")\n",
    "\n",
    "#calling the function with no arguments\n",
    "result = add_numbers()  # This will raise a TypeError since the function expects two arguments\n",
    "print(\"-----------break------------\")"
   ]
  },
  {
   "cell_type": "code",
   "execution_count": 47,
   "id": "5a7030e4",
   "metadata": {},
   "outputs": [
    {
     "name": "stdout",
     "output_type": "stream",
     "text": [
      "Argument 1: First\n",
      "Argument 2: Second\n",
      "Argument 3: Third\n",
      "-----------break------------\n",
      "Argument 1: First\n",
      "Argument 2: Second\n",
      "Argument 3: Third\n",
      "-----------break------------\n",
      "Argument 1: second\n",
      "Argument 2: First\n",
      "Argument 3: Third\n",
      "-----------break------------\n",
      "Argument 1: First\n",
      "Argument 2: Second\n",
      "Argument 3: Third\n",
      "-----------break------------\n",
      "Argument 1: First\n",
      "Argument 2: Second\n",
      "Argument 3: Third\n",
      "-----------break------------\n",
      "Argument 1: First\n",
      "Argument 2: Third\n",
      "Argument 3: Second\n",
      "-----------break------------\n"
     ]
    },
    {
     "name": "stdout",
     "output_type": "stream",
     "text": [
      "\u001b[31mSignature:\u001b[39m order_of_arguments(arg1, arg2, arg3)\n",
      "\u001b[31mDocstring:\u001b[39m\n",
      "This function demonstrates the order of input arguments.\n",
      "It takes three arguments and prints them in the order they were provided.\n",
      "\u001b[31mFile:\u001b[39m      c:\\users\\miadu\\appdata\\local\\temp\\ipykernel_19896\\274674547.py\n",
      "\u001b[31mType:\u001b[39m      function"
     ]
    }
   ],
   "source": [
    "#Definint functions and seeing the order of input arguments\n",
    "def order_of_arguments(arg1, arg2, arg3):\n",
    "    \"\"\"\n",
    "    This function demonstrates the order of input arguments.\n",
    "    It takes three arguments and prints them in the order they were provided.\n",
    "    \"\"\"\n",
    "    print(f\"Argument 1: {arg1}\")\n",
    "    print(f\"Argument 2: {arg2}\")\n",
    "    print(f\"Argument 3: {arg3}\")\n",
    "\n",
    "order_of_arguments?\n",
    "\n",
    "#calling the function with positional arguments\n",
    "order_of_arguments(\"First\", \"Second\", \"Third\")  # This will print the arguments in the order they were provided\n",
    "print(\"-----------break------------\")\n",
    "\n",
    "#calling the function with keyword arguments\n",
    "order_of_arguments(arg3=\"Third\", arg1=\"First\", arg2=\"Second\")  # This will print the arguments in the order specified by the keywords\n",
    "print(\"-----------break------------\")\n",
    "\n",
    "#calling the function in a different order\n",
    "order_of_arguments(\"second\", \"First\", \"Third\")  # This will print the arguments in the order they were provided, but the first argument is now \"second\"\n",
    "print(\"-----------break------------\")\n",
    "\n",
    "#calling the function in a different order using keyword arguments\n",
    "order_of_arguments(arg2=\"Second\", arg1=\"First\", arg3=\"Third\")  # This will print the arguments in the order specified by the keywords\n",
    "print(\"-----------break------------\")\n",
    "\n",
    "#calling the function with a mix of positional and keyword arguments\n",
    "order_of_arguments(\"First\", arg3=\"Third\", arg2=\"Second\")  # This will print the first argument as positional and the rest as keyword arguments\n",
    "print(\"-----------break------------\")\n",
    "\n",
    "#calling the function with different varible names\n",
    "miad = \"First\"\n",
    "alice = \"Second\"\n",
    "bob = \"Third\"\n",
    "order_of_arguments(miad, bob, alice)  # This will print the arguments in the order of the variables provided\n",
    "print(\"-----------break------------\")"
   ]
  },
  {
   "cell_type": "code",
   "execution_count": 60,
   "id": "396f2736",
   "metadata": {},
   "outputs": [
    {
     "name": "stdout",
     "output_type": "stream",
     "text": [
      "I am a local variable\n",
      "Have the same name gobal varibale but shows the value deifined inside the function\n",
      "Have the same name global variable but shows the value defined outside the function\n"
     ]
    },
    {
     "ename": "NameError",
     "evalue": "name 'local_var' is not defined",
     "output_type": "error",
     "traceback": [
      "\u001b[31m---------------------------------------------------------------------------\u001b[39m",
      "\u001b[31mNameError\u001b[39m                                 Traceback (most recent call last)",
      "\u001b[36mCell\u001b[39m\u001b[36m \u001b[39m\u001b[32mIn[60]\u001b[39m\u001b[32m, line 19\u001b[39m\n\u001b[32m     17\u001b[39m local_global_example()  \u001b[38;5;66;03m# This will print the local variable and the global variable\u001b[39;00m\n\u001b[32m     18\u001b[39m \u001b[38;5;28mprint\u001b[39m(global_var)  \u001b[38;5;66;03m# This will print the global variable\u001b[39;00m\n\u001b[32m---> \u001b[39m\u001b[32m19\u001b[39m \u001b[38;5;28mprint\u001b[39m(\u001b[43mlocal_var\u001b[49m)  \u001b[38;5;66;03m# This will raise a NameError since local_var is not defined outside the function\u001b[39;00m\n",
      "\u001b[31mNameError\u001b[39m: name 'local_var' is not defined"
     ]
    }
   ],
   "source": [
    "#Defining functions to the scope of variables\n",
    "def local_global_example():\n",
    "    \"\"\"\n",
    "    This function demonstrates the use of local and global variables.\n",
    "    It modifies a global variable and prints both local and global variables.\n",
    "    \"\"\"\n",
    "\n",
    "    local_var = \"I am a local variable\"\n",
    "    global_var = \"Have the same name gobal varibale but shows the value deifined inside the function\"\n",
    "    \n",
    "    print(local_var)\n",
    "    print(global_var)\n",
    "\n",
    "global_var = \"Have the same name global variable but shows the value defined outside the function\"\n",
    "\n",
    "#calling the function with local and global variables\n",
    "local_global_example()  # This will print the local variable and the global variable\n",
    "print(global_var)  # This will print the global variable\n",
    "print(local_var)  # This will raise a NameError since local_var is not defined outside the function\n"
   ]
  },
  {
   "cell_type": "code",
   "execution_count": 62,
   "id": "b2b16dc2",
   "metadata": {},
   "outputs": [
    {
     "name": "stdout",
     "output_type": "stream",
     "text": [
      "Returned value: This is the returned value from the function.\n",
      "This function does not return any value.\n",
      "Return value of no_return_example: None\n"
     ]
    }
   ],
   "source": [
    "#Defining functions to observe return statements\n",
    "def return_example():\n",
    "    \"\"\"\n",
    "    This function demonstrates the use of return statements.\n",
    "    It returns a value that can be used outside the function.\n",
    "    \"\"\"\n",
    "    return \"This is the returned value from the function.\"\n",
    "\n",
    "#calling the function with return statement\n",
    "returned_value = return_example()  # This will store the returned value in the variable\n",
    "print(\"Returned value:\", returned_value)  # This will print the returned value\n",
    "\n",
    "#calling the function without return statement\n",
    "def no_return_example():\n",
    "    \"\"\"\n",
    "    This function does not have a return statement.\n",
    "    It will return None by default.\n",
    "    \"\"\"\n",
    "    print(\"This function does not return any value.\")\n",
    "\n",
    "#calling the function without return statement\n",
    "no_return_value = no_return_example()  # This will print the message but return None\n",
    "print(\"Return value of no_return_example:\", no_return_value)  # This will print None since the function does not return anything"
   ]
  },
  {
   "cell_type": "code",
   "execution_count": 67,
   "id": "8573dab7",
   "metadata": {},
   "outputs": [
    {
     "name": "stdout",
     "output_type": "stream",
     "text": [
      "Number of arguments: 3\n",
      "Argument: First\n",
      "Argument: Second\n",
      "Argument: Third\n"
     ]
    }
   ],
   "source": [
    "#Defining functions with varible number of input argumants\n",
    "def variable_arguments_example(*args):\n",
    "    \"\"\"\n",
    "    This function demonstrates the use of variable number of input arguments.\n",
    "    It takes any number of positional arguments and prints them.\n",
    "    This args variable is a tuple that contains all the arguments passed to the function.\n",
    "    \"\"\"\n",
    "    print(\"Number of arguments:\", len(args))\n",
    "    for i in args:\n",
    "        print(\"Argument:\", i)\n",
    "\n",
    "#calling the function with variable number of input arguments\n",
    "variable_arguments_example(\"First\", \"Second\", \"Third\")  # This will print all three arguments"
   ]
  },
  {
   "cell_type": "code",
   "execution_count": 68,
   "id": "a1f9645c",
   "metadata": {},
   "outputs": [
    {
     "name": "stdout",
     "output_type": "stream",
     "text": [
      "Number of keyword arguments: 3\n",
      "Keyword Argument: name = Alice\n",
      "Keyword Argument: age = 30\n",
      "Keyword Argument: city = Wonderland\n"
     ]
    }
   ],
   "source": [
    "#Defining functions with varible number of input argumants also with keyword arguments\n",
    "def variable_keyword_arguments_example(**kwargs):\n",
    "    \"\"\"\n",
    "    This function demonstrates the use of variable number of keyword arguments.\n",
    "    It takes any number of keyword arguments and prints them.\n",
    "    This kwargs variable is a dictionary that contains all the keyword arguments passed to the function.\n",
    "    \"\"\"\n",
    "    print(\"Number of keyword arguments:\", len(kwargs))\n",
    "    for key, value in kwargs.items(): # items() method returns a view object that displays a list of a dictionary's key-value tuple pairs.\n",
    "        print(f\"Keyword Argument: {key} = {value}\")\n",
    "\n",
    "#calling the function with variable number of keyword arguments\n",
    "variable_keyword_arguments_example(name=\"Alice\", age=30, city=\"Wonderland\")  # This will print all three keyword arguments"
   ]
  },
  {
   "cell_type": "code",
   "execution_count": 66,
   "id": "b1b7de0d",
   "metadata": {},
   "outputs": [
    {
     "name": "stdout",
     "output_type": "stream",
     "text": [
      "Argument 1: Default Value\n",
      "Argument 2: 0.0\n",
      "-----------break------------\n",
      "Argument 1: Custom Value\n",
      "Argument 2: 0.0\n",
      "-----------break------------\n",
      "Argument 1: Custom Value\n",
      "Argument 2: 100\n",
      "-----------break------------\n",
      "Argument 1: Another Custom Value\n",
      "Argument 2: 0.0\n",
      "-----------break------------\n",
      "Argument 1: Default Value\n",
      "Argument 2: 50\n"
     ]
    }
   ],
   "source": [
    "#Defining functions with default arguments\n",
    "def default_argument_example(arg1=\"Default Value\", arg2=0.0):\n",
    "    \"\"\"\n",
    "    This function demonstrates the use of default arguments.\n",
    "    It takes two arguments, with default values provided for both.\n",
    "    \"\"\"\n",
    "    print(f\"Argument 1: {arg1}\")\n",
    "    print(f\"Argument 2: {arg2}\")\n",
    "\n",
    "#calling the function with default arguments\n",
    "default_argument_example()  # This will use the default values for both arguments\n",
    "print(\"-----------break------------\")\n",
    "\n",
    "#calling the function with one default argument\n",
    "default_argument_example(\"Custom Value\")  # This will use the custom value for arg1 and the default value for arg2\n",
    "print(\"-----------break------------\")\n",
    "\n",
    "#calling the function with both custom arguments\n",
    "default_argument_example(\"Custom Value\", 100)  # This will use the custom values for both arguments\n",
    "print(\"-----------break------------\")\n",
    "\n",
    "#calling the function with one custom arguments\n",
    "default_argument_example(arg1=\"Another Custom Value\")  # This will use the custom value for arg1 and the default value for arg2\n",
    "print(\"-----------break------------\")\n",
    "default_argument_example(arg2=50)  # This will use the default value for arg1 and the custom value for arg2"
   ]
  },
  {
   "cell_type": "code",
   "execution_count": 70,
   "id": "c4a0311a",
   "metadata": {},
   "outputs": [
    {
     "name": "stdout",
     "output_type": "stream",
     "text": [
      "Original List: [1, 2, 3]\n",
      "New List: [1, 2, 3]\n",
      "After modifying the original list:\n",
      "Original List: [100, 2, 3]\n",
      "New List: [100, 2, 3]\n"
     ]
    }
   ],
   "source": [
    "\"\"\"\n",
    "    In Python when you assign a list to another list (Ex: List1 = List2) a separate list with similar elements are not \n",
    "    created in the memory. Rather the new list name also points to the memory that the old list name used is pointing. \n",
    "    This means if you change the value in old list the value in the new list will also change.\n",
    "\"\"\"\n",
    "\n",
    "original_list = [1, 2, 3]\n",
    "new_list = original_list  # Both lists point to the same memory location\n",
    "\n",
    "print(\"Original List:\", original_list)\n",
    "print(\"New List:\", new_list)\n",
    "\n",
    "# Modifying the original list\n",
    "original_list[0] = 100\n",
    "print(\"After modifying the original list:\")\n",
    "print(\"Original List:\", original_list)\n",
    "print(\"New List:\", new_list)  # This will also reflect the change"
   ]
  },
  {
   "cell_type": "code",
   "execution_count": 96,
   "id": "d6e813d8",
   "metadata": {},
   "outputs": [
    {
     "name": "stdout",
     "output_type": "stream",
     "text": [
      "The value of s is: 4\n",
      "The value of s is: 10\n",
      "The value of s is: 4\n",
      "-----------break------------\n",
      "The value of List1 is: [1, 2, 3, 99]\n",
      "The value of List1 is: [1, 2, 3, 99, 99]\n",
      "The value of List1 is: [1, 2, 3, 99, 99, 99]\n",
      "-----------break------------\n",
      "The value of List1 is: [1, 2, 3, 99]\n",
      "The value of List1 is: [1, 2, 3, 99]\n",
      "The value of List1 is: [1, 2, 3, 99]\n"
     ]
    }
   ],
   "source": [
    "#Defining function with default variables\n",
    "def some_value_function(s = 4):\n",
    "    \"\"\"\n",
    "    This function demonstrates the use of a default argument.\n",
    "    It takes one argument, 's', with a default value of 4.\n",
    "    \"\"\"\n",
    "    print(\"The value of s is:\", s)\n",
    "\n",
    "# Calling the function with the default argument\n",
    "some_value_function()  # This will use the default value of 4\n",
    "\n",
    "a = 10\n",
    "s = a  # Assigning a custom value to 's'\n",
    "\n",
    "# Calling the function with a custom argument\n",
    "some_value_function(s)  # This will use the custom value of 10\n",
    "\n",
    "# Calling the function again to see if the default value has changed\n",
    "some_value_function()  # This will still use the default value of 4 because the default value is not changed\n",
    "print(\"-----------break------------\")\n",
    "\n",
    "# Defining a function with a mutable default argument (list)\n",
    "def some_value_function_with_list(List1 = [1, 2, 3]):\n",
    "    \"\"\"\n",
    "    This function demonstrates the DANGER of using mutable default arguments.\n",
    "    It modifies the default list by appending a value.\n",
    "    \"\"\"\n",
    "    List1.append(99)  # Mutating the list! #append() method adds an element to the end of the list\n",
    "    print(\"The value of List1 is:\", List1)\n",
    "\n",
    "# First call: uses the default list, appends 99\n",
    "some_value_function_with_list()  # Output: [1, 2, 3, 99]\n",
    "\n",
    "# Second call: reuses the SAME default list, appends 99 again\n",
    "some_value_function_with_list()  # Output: [1, 2, 3, 99, 99]\n",
    "\n",
    "# Third call: default list continues to grow unexpectedly\n",
    "some_value_function_with_list()  # Output: [1, 2, 3, 99, 99, 99]\n",
    "print(\"-----------break------------\")\n",
    "\n",
    "# To avoid this issue, use None as the default value and create a new list inside the function\n",
    "def some_value_function_with_list(List1=None):\n",
    "    \"\"\"\n",
    "    Safe version: uses a new list every time if none is provided.\n",
    "    \"\"\"\n",
    "    if List1 is None:\n",
    "        List1 = [1, 2, 3]\n",
    "    List1.append(99)\n",
    "    print(\"The value of List1 is:\", List1)\n",
    "\n",
    "# Now every call gets a fresh list:\n",
    "some_value_function_with_list()  # Output: [1, 2, 3, 99]\n",
    "some_value_function_with_list()  # Output: [1, 2, 3, 99]\n",
    "some_value_function_with_list()  # Output: [1, 2, 3, 99]\n"
   ]
  }
 ],
 "metadata": {
  "kernelspec": {
   "display_name": "myml",
   "language": "python",
   "name": "python3"
  },
  "language_info": {
   "codemirror_mode": {
    "name": "ipython",
    "version": 3
   },
   "file_extension": ".py",
   "mimetype": "text/x-python",
   "name": "python",
   "nbconvert_exporter": "python",
   "pygments_lexer": "ipython3",
   "version": "3.13.2"
  }
 },
 "nbformat": 4,
 "nbformat_minor": 5
}
